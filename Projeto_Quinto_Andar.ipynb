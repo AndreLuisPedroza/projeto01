{
  "nbformat": 4,
  "nbformat_minor": 0,
  "metadata": {
    "colab": {
      "provenance": [],
      "collapsed_sections": [],
      "authorship_tag": "ABX9TyMXFdIjvbLbg+w5+YuRPdRB",
      "include_colab_link": true
    },
    "kernelspec": {
      "name": "python3",
      "display_name": "Python 3"
    },
    "language_info": {
      "name": "python"
    }
  },
  "cells": [
    {
      "cell_type": "markdown",
      "metadata": {
        "id": "view-in-github",
        "colab_type": "text"
      },
      "source": [
        "<a href=\"https://colab.research.google.com/github/AndreLuisPedroza/projeto01/blob/main/Projeto_Quinto_Andar.ipynb\" target=\"_parent\"><img src=\"https://colab.research.google.com/assets/colab-badge.svg\" alt=\"Open In Colab\"/></a>"
      ]
    },
    {
      "cell_type": "code",
      "execution_count": null,
      "metadata": {
        "id": "LR-zCf1NvQsh"
      },
      "outputs": [],
      "source": [
        "Projeto Quinto Andar"
      ]
    },
    {
      "cell_type": "code",
      "source": [
        "import pandas as pd #Biblioteca para trabalhar os dados\n",
        "import seaborn as sns #ferramenta de visualização\n",
        "from matplotlib import pyplot as plt #importar a biblioteca matplot\n",
        "import numpy as np\n",
        "\n",
        "sns.set(style='ticks') #novo estilo de gráfico"
      ],
      "metadata": {
        "id": "oQmLlcf0L1n7"
      },
      "execution_count": 7,
      "outputs": []
    },
    {
      "cell_type": "code",
      "source": [
        "df = pd.read_excel(\"Casas_quinto_andar.xlsx\") #Abrindo os dados Excel e salvando na variável \"df\""
      ],
      "metadata": {
        "id": "pxVh54pHNiyd"
      },
      "execution_count": 8,
      "outputs": []
    },
    {
      "cell_type": "markdown",
      "source": [
        "# Nova seção"
      ],
      "metadata": {
        "id": "mwHF_G6OgxUf"
      }
    },
    {
      "cell_type": "markdown",
      "source": [],
      "metadata": {
        "id": "U_CPQ8aI6SCQ"
      }
    },
    {
      "cell_type": "markdown",
      "source": [
        "Acessar as Linhas e Colunas do Arquivo casas_para_aluguel"
      ],
      "metadata": {
        "id": "7ebhYuVlcPtC"
      }
    },
    {
      "cell_type": "code",
      "source": [
        "df.head(n=5) #Importando as 5 primeiras linhas do arquivo"
      ],
      "metadata": {
        "colab": {
          "base_uri": "https://localhost:8080/",
          "height": 357
        },
        "id": "sS8zeS4ccp0G",
        "outputId": "f794a58a-bb7f-485f-a381-a306093b8ffe"
      },
      "execution_count": 8,
      "outputs": [
        {
          "output_type": "execute_result",
          "data": {
            "text/plain": [
              "         cidade   area  quartos  banheiros  vagas_estacionamento andar animal  \\\n",
              "0     São Paulo   70.0      2.0        1.0                   1.0     7    sim   \n",
              "1     São Paulo  320.0      4.0        4.0                   0.0    20    sim   \n",
              "2  Porto Alegre   80.0      1.0        1.0                   1.0     6    sim   \n",
              "3  Porto Alegre   51.0      2.0        1.0                   0.0     2    sim   \n",
              "4     São Paulo   25.0      1.0        1.0                   0.0     1    nao   \n",
              "\n",
              "  mobiliado  taxa_condominio  preco_aluguel  taxa_iptu  taxa_incendio  \\\n",
              "0       sim           2065.0         3300.0      211.0           42.0   \n",
              "1       nao           1200.0         4960.0     1750.0           63.0   \n",
              "2       nao           1000.0         2800.0        0.0           41.0   \n",
              "3       nao            270.0         1112.0       22.0           17.0   \n",
              "4       nao              0.0          800.0       25.0           11.0   \n",
              "\n",
              "   total_aluguel  \n",
              "0         5618.0  \n",
              "1         7973.0  \n",
              "2         3841.0  \n",
              "3         1421.0  \n",
              "4          836.0  "
            ],
            "text/html": [
              "\n",
              "  <div id=\"df-cfe9fc0b-09be-45ab-8fc4-4012395a458a\">\n",
              "    <div class=\"colab-df-container\">\n",
              "      <div>\n",
              "<style scoped>\n",
              "    .dataframe tbody tr th:only-of-type {\n",
              "        vertical-align: middle;\n",
              "    }\n",
              "\n",
              "    .dataframe tbody tr th {\n",
              "        vertical-align: top;\n",
              "    }\n",
              "\n",
              "    .dataframe thead th {\n",
              "        text-align: right;\n",
              "    }\n",
              "</style>\n",
              "<table border=\"1\" class=\"dataframe\">\n",
              "  <thead>\n",
              "    <tr style=\"text-align: right;\">\n",
              "      <th></th>\n",
              "      <th>cidade</th>\n",
              "      <th>area</th>\n",
              "      <th>quartos</th>\n",
              "      <th>banheiros</th>\n",
              "      <th>vagas_estacionamento</th>\n",
              "      <th>andar</th>\n",
              "      <th>animal</th>\n",
              "      <th>mobiliado</th>\n",
              "      <th>taxa_condominio</th>\n",
              "      <th>preco_aluguel</th>\n",
              "      <th>taxa_iptu</th>\n",
              "      <th>taxa_incendio</th>\n",
              "      <th>total_aluguel</th>\n",
              "    </tr>\n",
              "  </thead>\n",
              "  <tbody>\n",
              "    <tr>\n",
              "      <th>0</th>\n",
              "      <td>São Paulo</td>\n",
              "      <td>70.0</td>\n",
              "      <td>2.0</td>\n",
              "      <td>1.0</td>\n",
              "      <td>1.0</td>\n",
              "      <td>7</td>\n",
              "      <td>sim</td>\n",
              "      <td>sim</td>\n",
              "      <td>2065.0</td>\n",
              "      <td>3300.0</td>\n",
              "      <td>211.0</td>\n",
              "      <td>42.0</td>\n",
              "      <td>5618.0</td>\n",
              "    </tr>\n",
              "    <tr>\n",
              "      <th>1</th>\n",
              "      <td>São Paulo</td>\n",
              "      <td>320.0</td>\n",
              "      <td>4.0</td>\n",
              "      <td>4.0</td>\n",
              "      <td>0.0</td>\n",
              "      <td>20</td>\n",
              "      <td>sim</td>\n",
              "      <td>nao</td>\n",
              "      <td>1200.0</td>\n",
              "      <td>4960.0</td>\n",
              "      <td>1750.0</td>\n",
              "      <td>63.0</td>\n",
              "      <td>7973.0</td>\n",
              "    </tr>\n",
              "    <tr>\n",
              "      <th>2</th>\n",
              "      <td>Porto Alegre</td>\n",
              "      <td>80.0</td>\n",
              "      <td>1.0</td>\n",
              "      <td>1.0</td>\n",
              "      <td>1.0</td>\n",
              "      <td>6</td>\n",
              "      <td>sim</td>\n",
              "      <td>nao</td>\n",
              "      <td>1000.0</td>\n",
              "      <td>2800.0</td>\n",
              "      <td>0.0</td>\n",
              "      <td>41.0</td>\n",
              "      <td>3841.0</td>\n",
              "    </tr>\n",
              "    <tr>\n",
              "      <th>3</th>\n",
              "      <td>Porto Alegre</td>\n",
              "      <td>51.0</td>\n",
              "      <td>2.0</td>\n",
              "      <td>1.0</td>\n",
              "      <td>0.0</td>\n",
              "      <td>2</td>\n",
              "      <td>sim</td>\n",
              "      <td>nao</td>\n",
              "      <td>270.0</td>\n",
              "      <td>1112.0</td>\n",
              "      <td>22.0</td>\n",
              "      <td>17.0</td>\n",
              "      <td>1421.0</td>\n",
              "    </tr>\n",
              "    <tr>\n",
              "      <th>4</th>\n",
              "      <td>São Paulo</td>\n",
              "      <td>25.0</td>\n",
              "      <td>1.0</td>\n",
              "      <td>1.0</td>\n",
              "      <td>0.0</td>\n",
              "      <td>1</td>\n",
              "      <td>nao</td>\n",
              "      <td>nao</td>\n",
              "      <td>0.0</td>\n",
              "      <td>800.0</td>\n",
              "      <td>25.0</td>\n",
              "      <td>11.0</td>\n",
              "      <td>836.0</td>\n",
              "    </tr>\n",
              "  </tbody>\n",
              "</table>\n",
              "</div>\n",
              "      <button class=\"colab-df-convert\" onclick=\"convertToInteractive('df-cfe9fc0b-09be-45ab-8fc4-4012395a458a')\"\n",
              "              title=\"Convert this dataframe to an interactive table.\"\n",
              "              style=\"display:none;\">\n",
              "        \n",
              "  <svg xmlns=\"http://www.w3.org/2000/svg\" height=\"24px\"viewBox=\"0 0 24 24\"\n",
              "       width=\"24px\">\n",
              "    <path d=\"M0 0h24v24H0V0z\" fill=\"none\"/>\n",
              "    <path d=\"M18.56 5.44l.94 2.06.94-2.06 2.06-.94-2.06-.94-.94-2.06-.94 2.06-2.06.94zm-11 1L8.5 8.5l.94-2.06 2.06-.94-2.06-.94L8.5 2.5l-.94 2.06-2.06.94zm10 10l.94 2.06.94-2.06 2.06-.94-2.06-.94-.94-2.06-.94 2.06-2.06.94z\"/><path d=\"M17.41 7.96l-1.37-1.37c-.4-.4-.92-.59-1.43-.59-.52 0-1.04.2-1.43.59L10.3 9.45l-7.72 7.72c-.78.78-.78 2.05 0 2.83L4 21.41c.39.39.9.59 1.41.59.51 0 1.02-.2 1.41-.59l7.78-7.78 2.81-2.81c.8-.78.8-2.07 0-2.86zM5.41 20L4 18.59l7.72-7.72 1.47 1.35L5.41 20z\"/>\n",
              "  </svg>\n",
              "      </button>\n",
              "      \n",
              "  <style>\n",
              "    .colab-df-container {\n",
              "      display:flex;\n",
              "      flex-wrap:wrap;\n",
              "      gap: 12px;\n",
              "    }\n",
              "\n",
              "    .colab-df-convert {\n",
              "      background-color: #E8F0FE;\n",
              "      border: none;\n",
              "      border-radius: 50%;\n",
              "      cursor: pointer;\n",
              "      display: none;\n",
              "      fill: #1967D2;\n",
              "      height: 32px;\n",
              "      padding: 0 0 0 0;\n",
              "      width: 32px;\n",
              "    }\n",
              "\n",
              "    .colab-df-convert:hover {\n",
              "      background-color: #E2EBFA;\n",
              "      box-shadow: 0px 1px 2px rgba(60, 64, 67, 0.3), 0px 1px 3px 1px rgba(60, 64, 67, 0.15);\n",
              "      fill: #174EA6;\n",
              "    }\n",
              "\n",
              "    [theme=dark] .colab-df-convert {\n",
              "      background-color: #3B4455;\n",
              "      fill: #D2E3FC;\n",
              "    }\n",
              "\n",
              "    [theme=dark] .colab-df-convert:hover {\n",
              "      background-color: #434B5C;\n",
              "      box-shadow: 0px 1px 3px 1px rgba(0, 0, 0, 0.15);\n",
              "      filter: drop-shadow(0px 1px 2px rgba(0, 0, 0, 0.3));\n",
              "      fill: #FFFFFF;\n",
              "    }\n",
              "  </style>\n",
              "\n",
              "      <script>\n",
              "        const buttonEl =\n",
              "          document.querySelector('#df-cfe9fc0b-09be-45ab-8fc4-4012395a458a button.colab-df-convert');\n",
              "        buttonEl.style.display =\n",
              "          google.colab.kernel.accessAllowed ? 'block' : 'none';\n",
              "\n",
              "        async function convertToInteractive(key) {\n",
              "          const element = document.querySelector('#df-cfe9fc0b-09be-45ab-8fc4-4012395a458a');\n",
              "          const dataTable =\n",
              "            await google.colab.kernel.invokeFunction('convertToInteractive',\n",
              "                                                     [key], {});\n",
              "          if (!dataTable) return;\n",
              "\n",
              "          const docLinkHtml = 'Like what you see? Visit the ' +\n",
              "            '<a target=\"_blank\" href=https://colab.research.google.com/notebooks/data_table.ipynb>data table notebook</a>'\n",
              "            + ' to learn more about interactive tables.';\n",
              "          element.innerHTML = '';\n",
              "          dataTable['output_type'] = 'display_data';\n",
              "          await google.colab.output.renderOutput(dataTable, element);\n",
              "          const docLink = document.createElement('div');\n",
              "          docLink.innerHTML = docLinkHtml;\n",
              "          element.appendChild(docLink);\n",
              "        }\n",
              "      </script>\n",
              "    </div>\n",
              "  </div>\n",
              "  "
            ]
          },
          "metadata": {},
          "execution_count": 8
        }
      ]
    },
    {
      "cell_type": "code",
      "source": [
        "df.info() #informações sobre a tabela"
      ],
      "metadata": {
        "colab": {
          "base_uri": "https://localhost:8080/"
        },
        "id": "l1oW1lL4g50G",
        "outputId": "009684e2-1167-4119-dfbd-1b985348b5c2"
      },
      "execution_count": null,
      "outputs": [
        {
          "output_type": "stream",
          "name": "stdout",
          "text": [
            "<class 'pandas.core.frame.DataFrame'>\n",
            "RangeIndex: 10692 entries, 0 to 10691\n",
            "Data columns (total 13 columns):\n",
            " #   Column                Non-Null Count  Dtype  \n",
            "---  ------                --------------  -----  \n",
            " 0   cidade                10692 non-null  object \n",
            " 1   area                  10692 non-null  float64\n",
            " 2   quartos               10692 non-null  float64\n",
            " 3   banheiros             10692 non-null  float64\n",
            " 4   vagas_estacionamento  10692 non-null  float64\n",
            " 5   andar                 10692 non-null  object \n",
            " 6   animal                10692 non-null  object \n",
            " 7   mobiliado             10692 non-null  object \n",
            " 8   taxa_condominio       10692 non-null  float64\n",
            " 9   preco_aluguel         10692 non-null  float64\n",
            " 10  taxa_iptu             10692 non-null  float64\n",
            " 11  taxa_incendio         10692 non-null  float64\n",
            " 12  total_aluguel         10692 non-null  float64\n",
            "dtypes: float64(9), object(4)\n",
            "memory usage: 1.1+ MB\n"
          ]
        }
      ]
    },
    {
      "cell_type": "markdown",
      "source": [
        "O conjunto de dados possui 13 colunas e 10692 registros de casas"
      ],
      "metadata": {
        "id": "fZ7Z-fYvmbcy"
      }
    },
    {
      "cell_type": "code",
      "source": [
        "df.describe().round(2) #Arredondado para duas casas utilizando o \"round(2)\""
      ],
      "metadata": {
        "colab": {
          "base_uri": "https://localhost:8080/",
          "height": 364
        },
        "id": "Fvi0T9Qkl-Y6",
        "outputId": "e10b5b05-1d30-4299-a213-179db79baab2"
      },
      "execution_count": null,
      "outputs": [
        {
          "output_type": "execute_result",
          "data": {
            "text/plain": [
              "           area   quartos  banheiros  vagas_estacionamento  taxa_condominio  \\\n",
              "count  10692.00  10692.00   10692.00              10692.00         10692.00   \n",
              "mean     149.22      2.51       2.24                  1.61          1174.02   \n",
              "std      537.02      1.17       1.41                  1.59         15592.31   \n",
              "min       11.00      1.00       1.00                  0.00             0.00   \n",
              "25%       56.00      2.00       1.00                  0.00           170.00   \n",
              "50%       90.00      2.00       2.00                  1.00           560.00   \n",
              "75%      182.00      3.00       3.00                  2.00          1237.50   \n",
              "max    46335.00     13.00      10.00                 12.00       1117000.00   \n",
              "\n",
              "       preco_aluguel  taxa_iptu  taxa_incendio  total_aluguel  \n",
              "count       10692.00   10692.00       10692.00       10692.00  \n",
              "mean         3896.25     366.70          53.30        5490.49  \n",
              "std          3408.55    3107.83          47.77       16484.73  \n",
              "min           450.00       0.00           3.00         499.00  \n",
              "25%          1530.00      38.00          21.00        2061.75  \n",
              "50%          2661.00     125.00          36.00        3581.50  \n",
              "75%          5000.00     375.00          68.00        6768.00  \n",
              "max         45000.00  313700.00         677.00     1120000.00  "
            ],
            "text/html": [
              "\n",
              "  <div id=\"df-a5b5179e-406d-47b9-a345-00573d701dcd\">\n",
              "    <div class=\"colab-df-container\">\n",
              "      <div>\n",
              "<style scoped>\n",
              "    .dataframe tbody tr th:only-of-type {\n",
              "        vertical-align: middle;\n",
              "    }\n",
              "\n",
              "    .dataframe tbody tr th {\n",
              "        vertical-align: top;\n",
              "    }\n",
              "\n",
              "    .dataframe thead th {\n",
              "        text-align: right;\n",
              "    }\n",
              "</style>\n",
              "<table border=\"1\" class=\"dataframe\">\n",
              "  <thead>\n",
              "    <tr style=\"text-align: right;\">\n",
              "      <th></th>\n",
              "      <th>area</th>\n",
              "      <th>quartos</th>\n",
              "      <th>banheiros</th>\n",
              "      <th>vagas_estacionamento</th>\n",
              "      <th>taxa_condominio</th>\n",
              "      <th>preco_aluguel</th>\n",
              "      <th>taxa_iptu</th>\n",
              "      <th>taxa_incendio</th>\n",
              "      <th>total_aluguel</th>\n",
              "    </tr>\n",
              "  </thead>\n",
              "  <tbody>\n",
              "    <tr>\n",
              "      <th>count</th>\n",
              "      <td>10692.00</td>\n",
              "      <td>10692.00</td>\n",
              "      <td>10692.00</td>\n",
              "      <td>10692.00</td>\n",
              "      <td>10692.00</td>\n",
              "      <td>10692.00</td>\n",
              "      <td>10692.00</td>\n",
              "      <td>10692.00</td>\n",
              "      <td>10692.00</td>\n",
              "    </tr>\n",
              "    <tr>\n",
              "      <th>mean</th>\n",
              "      <td>149.22</td>\n",
              "      <td>2.51</td>\n",
              "      <td>2.24</td>\n",
              "      <td>1.61</td>\n",
              "      <td>1174.02</td>\n",
              "      <td>3896.25</td>\n",
              "      <td>366.70</td>\n",
              "      <td>53.30</td>\n",
              "      <td>5490.49</td>\n",
              "    </tr>\n",
              "    <tr>\n",
              "      <th>std</th>\n",
              "      <td>537.02</td>\n",
              "      <td>1.17</td>\n",
              "      <td>1.41</td>\n",
              "      <td>1.59</td>\n",
              "      <td>15592.31</td>\n",
              "      <td>3408.55</td>\n",
              "      <td>3107.83</td>\n",
              "      <td>47.77</td>\n",
              "      <td>16484.73</td>\n",
              "    </tr>\n",
              "    <tr>\n",
              "      <th>min</th>\n",
              "      <td>11.00</td>\n",
              "      <td>1.00</td>\n",
              "      <td>1.00</td>\n",
              "      <td>0.00</td>\n",
              "      <td>0.00</td>\n",
              "      <td>450.00</td>\n",
              "      <td>0.00</td>\n",
              "      <td>3.00</td>\n",
              "      <td>499.00</td>\n",
              "    </tr>\n",
              "    <tr>\n",
              "      <th>25%</th>\n",
              "      <td>56.00</td>\n",
              "      <td>2.00</td>\n",
              "      <td>1.00</td>\n",
              "      <td>0.00</td>\n",
              "      <td>170.00</td>\n",
              "      <td>1530.00</td>\n",
              "      <td>38.00</td>\n",
              "      <td>21.00</td>\n",
              "      <td>2061.75</td>\n",
              "    </tr>\n",
              "    <tr>\n",
              "      <th>50%</th>\n",
              "      <td>90.00</td>\n",
              "      <td>2.00</td>\n",
              "      <td>2.00</td>\n",
              "      <td>1.00</td>\n",
              "      <td>560.00</td>\n",
              "      <td>2661.00</td>\n",
              "      <td>125.00</td>\n",
              "      <td>36.00</td>\n",
              "      <td>3581.50</td>\n",
              "    </tr>\n",
              "    <tr>\n",
              "      <th>75%</th>\n",
              "      <td>182.00</td>\n",
              "      <td>3.00</td>\n",
              "      <td>3.00</td>\n",
              "      <td>2.00</td>\n",
              "      <td>1237.50</td>\n",
              "      <td>5000.00</td>\n",
              "      <td>375.00</td>\n",
              "      <td>68.00</td>\n",
              "      <td>6768.00</td>\n",
              "    </tr>\n",
              "    <tr>\n",
              "      <th>max</th>\n",
              "      <td>46335.00</td>\n",
              "      <td>13.00</td>\n",
              "      <td>10.00</td>\n",
              "      <td>12.00</td>\n",
              "      <td>1117000.00</td>\n",
              "      <td>45000.00</td>\n",
              "      <td>313700.00</td>\n",
              "      <td>677.00</td>\n",
              "      <td>1120000.00</td>\n",
              "    </tr>\n",
              "  </tbody>\n",
              "</table>\n",
              "</div>\n",
              "      <button class=\"colab-df-convert\" onclick=\"convertToInteractive('df-a5b5179e-406d-47b9-a345-00573d701dcd')\"\n",
              "              title=\"Convert this dataframe to an interactive table.\"\n",
              "              style=\"display:none;\">\n",
              "        \n",
              "  <svg xmlns=\"http://www.w3.org/2000/svg\" height=\"24px\"viewBox=\"0 0 24 24\"\n",
              "       width=\"24px\">\n",
              "    <path d=\"M0 0h24v24H0V0z\" fill=\"none\"/>\n",
              "    <path d=\"M18.56 5.44l.94 2.06.94-2.06 2.06-.94-2.06-.94-.94-2.06-.94 2.06-2.06.94zm-11 1L8.5 8.5l.94-2.06 2.06-.94-2.06-.94L8.5 2.5l-.94 2.06-2.06.94zm10 10l.94 2.06.94-2.06 2.06-.94-2.06-.94-.94-2.06-.94 2.06-2.06.94z\"/><path d=\"M17.41 7.96l-1.37-1.37c-.4-.4-.92-.59-1.43-.59-.52 0-1.04.2-1.43.59L10.3 9.45l-7.72 7.72c-.78.78-.78 2.05 0 2.83L4 21.41c.39.39.9.59 1.41.59.51 0 1.02-.2 1.41-.59l7.78-7.78 2.81-2.81c.8-.78.8-2.07 0-2.86zM5.41 20L4 18.59l7.72-7.72 1.47 1.35L5.41 20z\"/>\n",
              "  </svg>\n",
              "      </button>\n",
              "      \n",
              "  <style>\n",
              "    .colab-df-container {\n",
              "      display:flex;\n",
              "      flex-wrap:wrap;\n",
              "      gap: 12px;\n",
              "    }\n",
              "\n",
              "    .colab-df-convert {\n",
              "      background-color: #E8F0FE;\n",
              "      border: none;\n",
              "      border-radius: 50%;\n",
              "      cursor: pointer;\n",
              "      display: none;\n",
              "      fill: #1967D2;\n",
              "      height: 32px;\n",
              "      padding: 0 0 0 0;\n",
              "      width: 32px;\n",
              "    }\n",
              "\n",
              "    .colab-df-convert:hover {\n",
              "      background-color: #E2EBFA;\n",
              "      box-shadow: 0px 1px 2px rgba(60, 64, 67, 0.3), 0px 1px 3px 1px rgba(60, 64, 67, 0.15);\n",
              "      fill: #174EA6;\n",
              "    }\n",
              "\n",
              "    [theme=dark] .colab-df-convert {\n",
              "      background-color: #3B4455;\n",
              "      fill: #D2E3FC;\n",
              "    }\n",
              "\n",
              "    [theme=dark] .colab-df-convert:hover {\n",
              "      background-color: #434B5C;\n",
              "      box-shadow: 0px 1px 3px 1px rgba(0, 0, 0, 0.15);\n",
              "      filter: drop-shadow(0px 1px 2px rgba(0, 0, 0, 0.3));\n",
              "      fill: #FFFFFF;\n",
              "    }\n",
              "  </style>\n",
              "\n",
              "      <script>\n",
              "        const buttonEl =\n",
              "          document.querySelector('#df-a5b5179e-406d-47b9-a345-00573d701dcd button.colab-df-convert');\n",
              "        buttonEl.style.display =\n",
              "          google.colab.kernel.accessAllowed ? 'block' : 'none';\n",
              "\n",
              "        async function convertToInteractive(key) {\n",
              "          const element = document.querySelector('#df-a5b5179e-406d-47b9-a345-00573d701dcd');\n",
              "          const dataTable =\n",
              "            await google.colab.kernel.invokeFunction('convertToInteractive',\n",
              "                                                     [key], {});\n",
              "          if (!dataTable) return;\n",
              "\n",
              "          const docLinkHtml = 'Like what you see? Visit the ' +\n",
              "            '<a target=\"_blank\" href=https://colab.research.google.com/notebooks/data_table.ipynb>data table notebook</a>'\n",
              "            + ' to learn more about interactive tables.';\n",
              "          element.innerHTML = '';\n",
              "          dataTable['output_type'] = 'display_data';\n",
              "          await google.colab.output.renderOutput(dataTable, element);\n",
              "          const docLink = document.createElement('div');\n",
              "          docLink.innerHTML = docLinkHtml;\n",
              "          element.appendChild(docLink);\n",
              "        }\n",
              "      </script>\n",
              "    </div>\n",
              "  </div>\n",
              "  "
            ]
          },
          "metadata": {},
          "execution_count": 11
        }
      ]
    },
    {
      "cell_type": "markdown",
      "source": [
        "Em quais cidades se concentram a maior quantidade de casas?"
      ],
      "metadata": {
        "id": "EbhlKMRrmpQ7"
      }
    },
    {
      "cell_type": "code",
      "source": [
        "df.head()"
      ],
      "metadata": {
        "colab": {
          "base_uri": "https://localhost:8080/",
          "height": 357
        },
        "id": "Q9JBaWgymxV_",
        "outputId": "f6a0393e-5ed5-43fd-f17e-90f40a7e346c"
      },
      "execution_count": null,
      "outputs": [
        {
          "output_type": "execute_result",
          "data": {
            "text/plain": [
              "         cidade   area  quartos  banheiros  vagas_estacionamento andar animal  \\\n",
              "0     São Paulo   70.0      2.0        1.0                   1.0     7    sim   \n",
              "1     São Paulo  320.0      4.0        4.0                   0.0    20    sim   \n",
              "2  Porto Alegre   80.0      1.0        1.0                   1.0     6    sim   \n",
              "3  Porto Alegre   51.0      2.0        1.0                   0.0     2    sim   \n",
              "4     São Paulo   25.0      1.0        1.0                   0.0     1    nao   \n",
              "\n",
              "  mobiliado  taxa_condominio  preco_aluguel  taxa_iptu  taxa_incendio  \\\n",
              "0       sim           2065.0         3300.0      211.0           42.0   \n",
              "1       nao           1200.0         4960.0     1750.0           63.0   \n",
              "2       nao           1000.0         2800.0        0.0           41.0   \n",
              "3       nao            270.0         1112.0       22.0           17.0   \n",
              "4       nao              0.0          800.0       25.0           11.0   \n",
              "\n",
              "   total_aluguel  \n",
              "0         5618.0  \n",
              "1         7973.0  \n",
              "2         3841.0  \n",
              "3         1421.0  \n",
              "4          836.0  "
            ],
            "text/html": [
              "\n",
              "  <div id=\"df-c2b73f8c-e11c-4db6-85ca-7a07cb0c9e55\">\n",
              "    <div class=\"colab-df-container\">\n",
              "      <div>\n",
              "<style scoped>\n",
              "    .dataframe tbody tr th:only-of-type {\n",
              "        vertical-align: middle;\n",
              "    }\n",
              "\n",
              "    .dataframe tbody tr th {\n",
              "        vertical-align: top;\n",
              "    }\n",
              "\n",
              "    .dataframe thead th {\n",
              "        text-align: right;\n",
              "    }\n",
              "</style>\n",
              "<table border=\"1\" class=\"dataframe\">\n",
              "  <thead>\n",
              "    <tr style=\"text-align: right;\">\n",
              "      <th></th>\n",
              "      <th>cidade</th>\n",
              "      <th>area</th>\n",
              "      <th>quartos</th>\n",
              "      <th>banheiros</th>\n",
              "      <th>vagas_estacionamento</th>\n",
              "      <th>andar</th>\n",
              "      <th>animal</th>\n",
              "      <th>mobiliado</th>\n",
              "      <th>taxa_condominio</th>\n",
              "      <th>preco_aluguel</th>\n",
              "      <th>taxa_iptu</th>\n",
              "      <th>taxa_incendio</th>\n",
              "      <th>total_aluguel</th>\n",
              "    </tr>\n",
              "  </thead>\n",
              "  <tbody>\n",
              "    <tr>\n",
              "      <th>0</th>\n",
              "      <td>São Paulo</td>\n",
              "      <td>70.0</td>\n",
              "      <td>2.0</td>\n",
              "      <td>1.0</td>\n",
              "      <td>1.0</td>\n",
              "      <td>7</td>\n",
              "      <td>sim</td>\n",
              "      <td>sim</td>\n",
              "      <td>2065.0</td>\n",
              "      <td>3300.0</td>\n",
              "      <td>211.0</td>\n",
              "      <td>42.0</td>\n",
              "      <td>5618.0</td>\n",
              "    </tr>\n",
              "    <tr>\n",
              "      <th>1</th>\n",
              "      <td>São Paulo</td>\n",
              "      <td>320.0</td>\n",
              "      <td>4.0</td>\n",
              "      <td>4.0</td>\n",
              "      <td>0.0</td>\n",
              "      <td>20</td>\n",
              "      <td>sim</td>\n",
              "      <td>nao</td>\n",
              "      <td>1200.0</td>\n",
              "      <td>4960.0</td>\n",
              "      <td>1750.0</td>\n",
              "      <td>63.0</td>\n",
              "      <td>7973.0</td>\n",
              "    </tr>\n",
              "    <tr>\n",
              "      <th>2</th>\n",
              "      <td>Porto Alegre</td>\n",
              "      <td>80.0</td>\n",
              "      <td>1.0</td>\n",
              "      <td>1.0</td>\n",
              "      <td>1.0</td>\n",
              "      <td>6</td>\n",
              "      <td>sim</td>\n",
              "      <td>nao</td>\n",
              "      <td>1000.0</td>\n",
              "      <td>2800.0</td>\n",
              "      <td>0.0</td>\n",
              "      <td>41.0</td>\n",
              "      <td>3841.0</td>\n",
              "    </tr>\n",
              "    <tr>\n",
              "      <th>3</th>\n",
              "      <td>Porto Alegre</td>\n",
              "      <td>51.0</td>\n",
              "      <td>2.0</td>\n",
              "      <td>1.0</td>\n",
              "      <td>0.0</td>\n",
              "      <td>2</td>\n",
              "      <td>sim</td>\n",
              "      <td>nao</td>\n",
              "      <td>270.0</td>\n",
              "      <td>1112.0</td>\n",
              "      <td>22.0</td>\n",
              "      <td>17.0</td>\n",
              "      <td>1421.0</td>\n",
              "    </tr>\n",
              "    <tr>\n",
              "      <th>4</th>\n",
              "      <td>São Paulo</td>\n",
              "      <td>25.0</td>\n",
              "      <td>1.0</td>\n",
              "      <td>1.0</td>\n",
              "      <td>0.0</td>\n",
              "      <td>1</td>\n",
              "      <td>nao</td>\n",
              "      <td>nao</td>\n",
              "      <td>0.0</td>\n",
              "      <td>800.0</td>\n",
              "      <td>25.0</td>\n",
              "      <td>11.0</td>\n",
              "      <td>836.0</td>\n",
              "    </tr>\n",
              "  </tbody>\n",
              "</table>\n",
              "</div>\n",
              "      <button class=\"colab-df-convert\" onclick=\"convertToInteractive('df-c2b73f8c-e11c-4db6-85ca-7a07cb0c9e55')\"\n",
              "              title=\"Convert this dataframe to an interactive table.\"\n",
              "              style=\"display:none;\">\n",
              "        \n",
              "  <svg xmlns=\"http://www.w3.org/2000/svg\" height=\"24px\"viewBox=\"0 0 24 24\"\n",
              "       width=\"24px\">\n",
              "    <path d=\"M0 0h24v24H0V0z\" fill=\"none\"/>\n",
              "    <path d=\"M18.56 5.44l.94 2.06.94-2.06 2.06-.94-2.06-.94-.94-2.06-.94 2.06-2.06.94zm-11 1L8.5 8.5l.94-2.06 2.06-.94-2.06-.94L8.5 2.5l-.94 2.06-2.06.94zm10 10l.94 2.06.94-2.06 2.06-.94-2.06-.94-.94-2.06-.94 2.06-2.06.94z\"/><path d=\"M17.41 7.96l-1.37-1.37c-.4-.4-.92-.59-1.43-.59-.52 0-1.04.2-1.43.59L10.3 9.45l-7.72 7.72c-.78.78-.78 2.05 0 2.83L4 21.41c.39.39.9.59 1.41.59.51 0 1.02-.2 1.41-.59l7.78-7.78 2.81-2.81c.8-.78.8-2.07 0-2.86zM5.41 20L4 18.59l7.72-7.72 1.47 1.35L5.41 20z\"/>\n",
              "  </svg>\n",
              "      </button>\n",
              "      \n",
              "  <style>\n",
              "    .colab-df-container {\n",
              "      display:flex;\n",
              "      flex-wrap:wrap;\n",
              "      gap: 12px;\n",
              "    }\n",
              "\n",
              "    .colab-df-convert {\n",
              "      background-color: #E8F0FE;\n",
              "      border: none;\n",
              "      border-radius: 50%;\n",
              "      cursor: pointer;\n",
              "      display: none;\n",
              "      fill: #1967D2;\n",
              "      height: 32px;\n",
              "      padding: 0 0 0 0;\n",
              "      width: 32px;\n",
              "    }\n",
              "\n",
              "    .colab-df-convert:hover {\n",
              "      background-color: #E2EBFA;\n",
              "      box-shadow: 0px 1px 2px rgba(60, 64, 67, 0.3), 0px 1px 3px 1px rgba(60, 64, 67, 0.15);\n",
              "      fill: #174EA6;\n",
              "    }\n",
              "\n",
              "    [theme=dark] .colab-df-convert {\n",
              "      background-color: #3B4455;\n",
              "      fill: #D2E3FC;\n",
              "    }\n",
              "\n",
              "    [theme=dark] .colab-df-convert:hover {\n",
              "      background-color: #434B5C;\n",
              "      box-shadow: 0px 1px 3px 1px rgba(0, 0, 0, 0.15);\n",
              "      filter: drop-shadow(0px 1px 2px rgba(0, 0, 0, 0.3));\n",
              "      fill: #FFFFFF;\n",
              "    }\n",
              "  </style>\n",
              "\n",
              "      <script>\n",
              "        const buttonEl =\n",
              "          document.querySelector('#df-c2b73f8c-e11c-4db6-85ca-7a07cb0c9e55 button.colab-df-convert');\n",
              "        buttonEl.style.display =\n",
              "          google.colab.kernel.accessAllowed ? 'block' : 'none';\n",
              "\n",
              "        async function convertToInteractive(key) {\n",
              "          const element = document.querySelector('#df-c2b73f8c-e11c-4db6-85ca-7a07cb0c9e55');\n",
              "          const dataTable =\n",
              "            await google.colab.kernel.invokeFunction('convertToInteractive',\n",
              "                                                     [key], {});\n",
              "          if (!dataTable) return;\n",
              "\n",
              "          const docLinkHtml = 'Like what you see? Visit the ' +\n",
              "            '<a target=\"_blank\" href=https://colab.research.google.com/notebooks/data_table.ipynb>data table notebook</a>'\n",
              "            + ' to learn more about interactive tables.';\n",
              "          element.innerHTML = '';\n",
              "          dataTable['output_type'] = 'display_data';\n",
              "          await google.colab.output.renderOutput(dataTable, element);\n",
              "          const docLink = document.createElement('div');\n",
              "          docLink.innerHTML = docLinkHtml;\n",
              "          element.appendChild(docLink);\n",
              "        }\n",
              "      </script>\n",
              "    </div>\n",
              "  </div>\n",
              "  "
            ]
          },
          "metadata": {},
          "execution_count": 12
        }
      ]
    },
    {
      "cell_type": "code",
      "source": [
        "df['cidade'].value_counts() #contabilizando a quantidade de registros por cidades"
      ],
      "metadata": {
        "colab": {
          "base_uri": "https://localhost:8080/"
        },
        "id": "feSuIbS_m2sh",
        "outputId": "d94186e9-3d41-4a47-cd50-3ab4681775fa"
      },
      "execution_count": null,
      "outputs": [
        {
          "output_type": "execute_result",
          "data": {
            "text/plain": [
              "São Paulo         5887\n",
              "Rio de Janeiro    1501\n",
              "Belo Horizonte    1258\n",
              "Porto Alegre      1193\n",
              "Campinas           853\n",
              "Name: cidade, dtype: int64"
            ]
          },
          "metadata": {},
          "execution_count": 13
        }
      ]
    },
    {
      "cell_type": "code",
      "source": [
        "df['cidade'].unique() #Valores únicos"
      ],
      "metadata": {
        "colab": {
          "base_uri": "https://localhost:8080/"
        },
        "id": "ncQaJGsTnKMm",
        "outputId": "7be78dc9-9300-481f-a605-2b3973485d3b"
      },
      "execution_count": 9,
      "outputs": [
        {
          "output_type": "execute_result",
          "data": {
            "text/plain": [
              "array(['São Paulo', 'Porto Alegre', 'Rio de Janeiro', 'Campinas',\n",
              "       'Belo Horizonte'], dtype=object)"
            ]
          },
          "metadata": {},
          "execution_count": 9
        }
      ]
    },
    {
      "cell_type": "code",
      "source": [
        "from google.colab import drive\n",
        "drive.mount('/content/drive')"
      ],
      "metadata": {
        "id": "iRF9JTHhvomh"
      },
      "execution_count": null,
      "outputs": []
    },
    {
      "cell_type": "code",
      "source": [
        "plt.figure(figsize=(15,5)) #\"caixa\" para visualização\n",
        "sns.countplot(df['cidade'])\n",
        "plt.show()"
      ],
      "metadata": {
        "colab": {
          "base_uri": "https://localhost:8080/",
          "height": 390
        },
        "id": "zUYBmluFhEJk",
        "outputId": "9c95d70e-cac8-4e0c-b61e-6822716285ba"
      },
      "execution_count": null,
      "outputs": [
        {
          "output_type": "stream",
          "name": "stderr",
          "text": [
            "/usr/local/lib/python3.7/dist-packages/seaborn/_decorators.py:43: FutureWarning: Pass the following variable as a keyword arg: x. From version 0.12, the only valid positional argument will be `data`, and passing other arguments without an explicit keyword will result in an error or misinterpretation.\n",
            "  FutureWarning\n"
          ]
        },
        {
          "output_type": "display_data",
          "data": {
            "text/plain": [
              "<Figure size 1080x360 with 1 Axes>"
            ],
            "image/png": "[encoded data removed]"
          },
          "metadata": {
            "needs_background": "light"
          }
        }
      ]
    },
    {
      "cell_type": "markdown",
      "source": [
        "Em quais cidades estão os imóveis com maior preço de aluguel?"
      ],
      "metadata": {
        "id": "3qrNVTc-rcov"
      }
    },
    {
      "cell_type": "code",
      "source": [
        "df.head()"
      ],
      "metadata": {
        "id": "ohu0Wixqd8lG",
        "colab": {
          "base_uri": "https://localhost:8080/",
          "height": 357
        },
        "outputId": "d2598f61-75e9-4e91-f587-4fab58296b24"
      },
      "execution_count": 10,
      "outputs": [
        {
          "output_type": "execute_result",
          "data": {
            "text/plain": [
              "         cidade   area  quartos  banheiros  vagas_estacionamento andar animal  \\\n",
              "0     São Paulo   70.0      2.0        1.0                   1.0     7    sim   \n",
              "1     São Paulo  320.0      4.0        4.0                   0.0    20    sim   \n",
              "2  Porto Alegre   80.0      1.0        1.0                   1.0     6    sim   \n",
              "3  Porto Alegre   51.0      2.0        1.0                   0.0     2    sim   \n",
              "4     São Paulo   25.0      1.0        1.0                   0.0     1    nao   \n",
              "\n",
              "  mobiliado  taxa_condominio  preco_aluguel  taxa_iptu  taxa_incendio  \\\n",
              "0       sim           2065.0         3300.0      211.0           42.0   \n",
              "1       nao           1200.0         4960.0     1750.0           63.0   \n",
              "2       nao           1000.0         2800.0        0.0           41.0   \n",
              "3       nao            270.0         1112.0       22.0           17.0   \n",
              "4       nao              0.0          800.0       25.0           11.0   \n",
              "\n",
              "   total_aluguel  \n",
              "0         5618.0  \n",
              "1         7973.0  \n",
              "2         3841.0  \n",
              "3         1421.0  \n",
              "4          836.0  "
            ],
            "text/html": [
              "\n",
              "  <div id=\"df-c98aac33-eea0-4bc2-bd50-2e144baa18d9\">\n",
              "    <div class=\"colab-df-container\">\n",
              "      <div>\n",
              "<style scoped>\n",
              "    .dataframe tbody tr th:only-of-type {\n",
              "        vertical-align: middle;\n",
              "    }\n",
              "\n",
              "    .dataframe tbody tr th {\n",
              "        vertical-align: top;\n",
              "    }\n",
              "\n",
              "    .dataframe thead th {\n",
              "        text-align: right;\n",
              "    }\n",
              "</style>\n",
              "<table border=\"1\" class=\"dataframe\">\n",
              "  <thead>\n",
              "    <tr style=\"text-align: right;\">\n",
              "      <th></th>\n",
              "      <th>cidade</th>\n",
              "      <th>area</th>\n",
              "      <th>quartos</th>\n",
              "      <th>banheiros</th>\n",
              "      <th>vagas_estacionamento</th>\n",
              "      <th>andar</th>\n",
              "      <th>animal</th>\n",
              "      <th>mobiliado</th>\n",
              "      <th>taxa_condominio</th>\n",
              "      <th>preco_aluguel</th>\n",
              "      <th>taxa_iptu</th>\n",
              "      <th>taxa_incendio</th>\n",
              "      <th>total_aluguel</th>\n",
              "    </tr>\n",
              "  </thead>\n",
              "  <tbody>\n",
              "    <tr>\n",
              "      <th>0</th>\n",
              "      <td>São Paulo</td>\n",
              "      <td>70.0</td>\n",
              "      <td>2.0</td>\n",
              "      <td>1.0</td>\n",
              "      <td>1.0</td>\n",
              "      <td>7</td>\n",
              "      <td>sim</td>\n",
              "      <td>sim</td>\n",
              "      <td>2065.0</td>\n",
              "      <td>3300.0</td>\n",
              "      <td>211.0</td>\n",
              "      <td>42.0</td>\n",
              "      <td>5618.0</td>\n",
              "    </tr>\n",
              "    <tr>\n",
              "      <th>1</th>\n",
              "      <td>São Paulo</td>\n",
              "      <td>320.0</td>\n",
              "      <td>4.0</td>\n",
              "      <td>4.0</td>\n",
              "      <td>0.0</td>\n",
              "      <td>20</td>\n",
              "      <td>sim</td>\n",
              "      <td>nao</td>\n",
              "      <td>1200.0</td>\n",
              "      <td>4960.0</td>\n",
              "      <td>1750.0</td>\n",
              "      <td>63.0</td>\n",
              "      <td>7973.0</td>\n",
              "    </tr>\n",
              "    <tr>\n",
              "      <th>2</th>\n",
              "      <td>Porto Alegre</td>\n",
              "      <td>80.0</td>\n",
              "      <td>1.0</td>\n",
              "      <td>1.0</td>\n",
              "      <td>1.0</td>\n",
              "      <td>6</td>\n",
              "      <td>sim</td>\n",
              "      <td>nao</td>\n",
              "      <td>1000.0</td>\n",
              "      <td>2800.0</td>\n",
              "      <td>0.0</td>\n",
              "      <td>41.0</td>\n",
              "      <td>3841.0</td>\n",
              "    </tr>\n",
              "    <tr>\n",
              "      <th>3</th>\n",
              "      <td>Porto Alegre</td>\n",
              "      <td>51.0</td>\n",
              "      <td>2.0</td>\n",
              "      <td>1.0</td>\n",
              "      <td>0.0</td>\n",
              "      <td>2</td>\n",
              "      <td>sim</td>\n",
              "      <td>nao</td>\n",
              "      <td>270.0</td>\n",
              "      <td>1112.0</td>\n",
              "      <td>22.0</td>\n",
              "      <td>17.0</td>\n",
              "      <td>1421.0</td>\n",
              "    </tr>\n",
              "    <tr>\n",
              "      <th>4</th>\n",
              "      <td>São Paulo</td>\n",
              "      <td>25.0</td>\n",
              "      <td>1.0</td>\n",
              "      <td>1.0</td>\n",
              "      <td>0.0</td>\n",
              "      <td>1</td>\n",
              "      <td>nao</td>\n",
              "      <td>nao</td>\n",
              "      <td>0.0</td>\n",
              "      <td>800.0</td>\n",
              "      <td>25.0</td>\n",
              "      <td>11.0</td>\n",
              "      <td>836.0</td>\n",
              "    </tr>\n",
              "  </tbody>\n",
              "</table>\n",
              "</div>\n",
              "      <button class=\"colab-df-convert\" onclick=\"convertToInteractive('df-c98aac33-eea0-4bc2-bd50-2e144baa18d9')\"\n",
              "              title=\"Convert this dataframe to an interactive table.\"\n",
              "              style=\"display:none;\">\n",
              "        \n",
              "  <svg xmlns=\"http://www.w3.org/2000/svg\" height=\"24px\"viewBox=\"0 0 24 24\"\n",
              "       width=\"24px\">\n",
              "    <path d=\"M0 0h24v24H0V0z\" fill=\"none\"/>\n",
              "    <path d=\"M18.56 5.44l.94 2.06.94-2.06 2.06-.94-2.06-.94-.94-2.06-.94 2.06-2.06.94zm-11 1L8.5 8.5l.94-2.06 2.06-.94-2.06-.94L8.5 2.5l-.94 2.06-2.06.94zm10 10l.94 2.06.94-2.06 2.06-.94-2.06-.94-.94-2.06-.94 2.06-2.06.94z\"/><path d=\"M17.41 7.96l-1.37-1.37c-.4-.4-.92-.59-1.43-.59-.52 0-1.04.2-1.43.59L10.3 9.45l-7.72 7.72c-.78.78-.78 2.05 0 2.83L4 21.41c.39.39.9.59 1.41.59.51 0 1.02-.2 1.41-.59l7.78-7.78 2.81-2.81c.8-.78.8-2.07 0-2.86zM5.41 20L4 18.59l7.72-7.72 1.47 1.35L5.41 20z\"/>\n",
              "  </svg>\n",
              "      </button>\n",
              "      \n",
              "  <style>\n",
              "    .colab-df-container {\n",
              "      display:flex;\n",
              "      flex-wrap:wrap;\n",
              "      gap: 12px;\n",
              "    }\n",
              "\n",
              "    .colab-df-convert {\n",
              "      background-color: #E8F0FE;\n",
              "      border: none;\n",
              "      border-radius: 50%;\n",
              "      cursor: pointer;\n",
              "      display: none;\n",
              "      fill: #1967D2;\n",
              "      height: 32px;\n",
              "      padding: 0 0 0 0;\n",
              "      width: 32px;\n",
              "    }\n",
              "\n",
              "    .colab-df-convert:hover {\n",
              "      background-color: #E2EBFA;\n",
              "      box-shadow: 0px 1px 2px rgba(60, 64, 67, 0.3), 0px 1px 3px 1px rgba(60, 64, 67, 0.15);\n",
              "      fill: #174EA6;\n",
              "    }\n",
              "\n",
              "    [theme=dark] .colab-df-convert {\n",
              "      background-color: #3B4455;\n",
              "      fill: #D2E3FC;\n",
              "    }\n",
              "\n",
              "    [theme=dark] .colab-df-convert:hover {\n",
              "      background-color: #434B5C;\n",
              "      box-shadow: 0px 1px 3px 1px rgba(0, 0, 0, 0.15);\n",
              "      filter: drop-shadow(0px 1px 2px rgba(0, 0, 0, 0.3));\n",
              "      fill: #FFFFFF;\n",
              "    }\n",
              "  </style>\n",
              "\n",
              "      <script>\n",
              "        const buttonEl =\n",
              "          document.querySelector('#df-c98aac33-eea0-4bc2-bd50-2e144baa18d9 button.colab-df-convert');\n",
              "        buttonEl.style.display =\n",
              "          google.colab.kernel.accessAllowed ? 'block' : 'none';\n",
              "\n",
              "        async function convertToInteractive(key) {\n",
              "          const element = document.querySelector('#df-c98aac33-eea0-4bc2-bd50-2e144baa18d9');\n",
              "          const dataTable =\n",
              "            await google.colab.kernel.invokeFunction('convertToInteractive',\n",
              "                                                     [key], {});\n",
              "          if (!dataTable) return;\n",
              "\n",
              "          const docLinkHtml = 'Like what you see? Visit the ' +\n",
              "            '<a target=\"_blank\" href=https://colab.research.google.com/notebooks/data_table.ipynb>data table notebook</a>'\n",
              "            + ' to learn more about interactive tables.';\n",
              "          element.innerHTML = '';\n",
              "          dataTable['output_type'] = 'display_data';\n",
              "          await google.colab.output.renderOutput(dataTable, element);\n",
              "          const docLink = document.createElement('div');\n",
              "          docLink.innerHTML = docLinkHtml;\n",
              "          element.appendChild(docLink);\n",
              "        }\n",
              "      </script>\n",
              "    </div>\n",
              "  </div>\n",
              "  "
            ]
          },
          "metadata": {},
          "execution_count": 10
        }
      ]
    },
    {
      "cell_type": "code",
      "source": [
        "df['total_aluguel'].describe().round(2)  #detalhamento do valor do aluguel total"
      ],
      "metadata": {
        "colab": {
          "base_uri": "https://localhost:8080/"
        },
        "id": "t13irnajrsSD",
        "outputId": "7ef81588-9a15-4d6e-9388-fb70d2ae7ea6"
      },
      "execution_count": 11,
      "outputs": [
        {
          "output_type": "execute_result",
          "data": {
            "text/plain": [
              "count      10692.00\n",
              "mean        5490.49\n",
              "std        16484.73\n",
              "min          499.00\n",
              "25%         2061.75\n",
              "50%         3581.50\n",
              "75%         6768.00\n",
              "max      1120000.00\n",
              "Name: total_aluguel, dtype: float64"
            ]
          },
          "metadata": {},
          "execution_count": 11
        }
      ]
    },
    {
      "cell_type": "code",
      "source": [
        "df.groupby(\"cidade\")['total_aluguel'].median()   #agrupar o valor do aluguel por cidade // median() = pegando a média de cada cidade"
      ],
      "metadata": {
        "colab": {
          "base_uri": "https://localhost:8080/"
        },
        "id": "R3tUmAtLstDM",
        "outputId": "aeeaac25-8492-493d-f886-f0e1c3359491"
      },
      "execution_count": 13,
      "outputs": [
        {
          "output_type": "execute_result",
          "data": {
            "text/plain": [
              "cidade\n",
              "Belo Horizonte    3040.0\n",
              "Campinas          2140.0\n",
              "Porto Alegre      2211.0\n",
              "Rio de Janeiro    3253.0\n",
              "São Paulo         4596.0\n",
              "Name: total_aluguel, dtype: float64"
            ]
          },
          "metadata": {},
          "execution_count": 13
        }
      ]
    },
    {
      "cell_type": "markdown",
      "source": [
        "Cidade com a média de preço de aluguel mais alto = São Paulo // A menor é campinas"
      ],
      "metadata": {
        "id": "8cLqECGYtOMT"
      }
    },
    {
      "cell_type": "code",
      "source": [
        "plt.figure(figsize=(15,5)) #\"caixa\" para visualização\n",
        "sns.boxplot(x= 'cidade', y='total_aluguel', data=df, showfliers = False)  #outro tipo de tabela, definindo eixo x e y e pegando os valores de Data\n",
        "plt.show()                                                              #showfliers retira os valores discrepantes"
      ],
      "metadata": {
        "colab": {
          "base_uri": "https://localhost:8080/",
          "height": 334
        },
        "id": "u_-gBfqKteTs",
        "outputId": "e85e2978-c7ef-4349-f731-617b48d9d821"
      },
      "execution_count": 15,
      "outputs": [
        {
          "output_type": "display_data",
          "data": {
            "text/plain": [
              "<Figure size 1080x360 with 1 Axes>"
            ],
            "image/png": "[encoded data removed]"
          },
          "metadata": {
            "needs_background": "light"
          }
        }
      ]
    },
    {
      "cell_type": "markdown",
      "source": [
        "Ter animais impacta no valor do aluguel?"
      ],
      "metadata": {
        "id": "vklJLP60Orh5"
      }
    },
    {
      "cell_type": "code",
      "source": [
        "df['animal'].unique()  #Conferindo se possui outro termo além do \"sim\" e do \"não\" para a coluna de \"animal\""
      ],
      "metadata": {
        "colab": {
          "base_uri": "https://localhost:8080/"
        },
        "id": "PPQXYsiDOy9T",
        "outputId": "e87b13d8-6530-4469-9349-cad3bcdc10a7"
      },
      "execution_count": 16,
      "outputs": [
        {
          "output_type": "execute_result",
          "data": {
            "text/plain": [
              "array(['sim', 'nao'], dtype=object)"
            ]
          },
          "metadata": {},
          "execution_count": 16
        }
      ]
    },
    {
      "cell_type": "code",
      "source": [
        "df['animal'].value_counts() #Quantidade de registros"
      ],
      "metadata": {
        "colab": {
          "base_uri": "https://localhost:8080/"
        },
        "id": "pi8WHa_ZPHlk",
        "outputId": "1ef9e3c1-234f-43c2-9ec5-875767aa6c77"
      },
      "execution_count": 17,
      "outputs": [
        {
          "output_type": "execute_result",
          "data": {
            "text/plain": [
              "sim    8316\n",
              "nao    2376\n",
              "Name: animal, dtype: int64"
            ]
          },
          "metadata": {},
          "execution_count": 17
        }
      ]
    },
    {
      "cell_type": "code",
      "source": [
        "plt.figure(figsize=(15,5)) #\"caixa\" para visualização\n",
        "sns.countplot(df['animal'])\n",
        "plt.show()"
      ],
      "metadata": {
        "colab": {
          "base_uri": "https://localhost:8080/",
          "height": 390
        },
        "id": "3pGs4wPsPVlf",
        "outputId": "fdf33f21-7221-4e92-bc1a-195fc0b74d09"
      },
      "execution_count": 18,
      "outputs": [
        {
          "output_type": "stream",
          "name": "stderr",
          "text": [
            "/usr/local/lib/python3.7/dist-packages/seaborn/_decorators.py:43: FutureWarning: Pass the following variable as a keyword arg: x. From version 0.12, the only valid positional argument will be `data`, and passing other arguments without an explicit keyword will result in an error or misinterpretation.\n",
            "  FutureWarning\n"
          ]
        },
        {
          "output_type": "display_data",
          "data": {
            "text/plain": [
              "<Figure size 1080x360 with 1 Axes>"
            ],
            "image/png": "[encoded data removed]"
          },
          "metadata": {
            "needs_background": "light"
          }
        }
      ]
    },
    {
      "cell_type": "code",
      "source": [
        "df.groupby(\"animal\")['total_aluguel'].median()    #relacionando a coluna \"animal\" com o preço do aluguel // pegando a média"
      ],
      "metadata": {
        "colab": {
          "base_uri": "https://localhost:8080/"
        },
        "id": "jJOPhvNjPlkY",
        "outputId": "57811095-f875-4727-b5e0-67d72fb86e8f"
      },
      "execution_count": 19,
      "outputs": [
        {
          "output_type": "execute_result",
          "data": {
            "text/plain": [
              "animal\n",
              "nao    3217.5\n",
              "sim    3701.0\n",
              "Name: total_aluguel, dtype: float64"
            ]
          },
          "metadata": {},
          "execution_count": 19
        }
      ]
    },
    {
      "cell_type": "code",
      "source": [
        "plt.figure(figsize=(15,5)) #\"caixa\" para visualização\n",
        "sns.boxplot(x= 'animal', y='total_aluguel', data=df, showfliers = False)  #outro tipo de tabela, definindo eixo x e y e pegando os valores de Data\n",
        "plt.show()"
      ],
      "metadata": {
        "colab": {
          "base_uri": "https://localhost:8080/",
          "height": 334
        },
        "id": "Q_IqVd9kP2Wy",
        "outputId": "c02d4e9f-f23e-4251-a7c2-ac89bddcfe5d"
      },
      "execution_count": 20,
      "outputs": [
        {
          "output_type": "display_data",
          "data": {
            "text/plain": [
              "<Figure size 1080x360 with 1 Axes>"
            ],
            "image/png": "[encoded data removed]"
          },
          "metadata": {
            "needs_background": "light"
          }
        }
      ]
    },
    {
      "cell_type": "code",
      "source": [
        "plt.figure(figsize=(15,5))\n",
        "sns.barplot(x= df['cidade'], y= df['total_aluguel'], hue=df['animal'], ci = False, estimator=np.median) "
      ],
      "metadata": {
        "colab": {
          "base_uri": "https://localhost:8080/",
          "height": 357
        },
        "id": "bBtzFeG3U545",
        "outputId": "630e69c5-1ea1-46a6-fcd6-7888d9353a1f"
      },
      "execution_count": 26,
      "outputs": [
        {
          "output_type": "execute_result",
          "data": {
            "text/plain": [
              "<matplotlib.axes._subplots.AxesSubplot at 0x7feb71e6c210>"
            ]
          },
          "metadata": {},
          "execution_count": 26
        },
        {
          "output_type": "display_data",
          "data": {
            "text/plain": [
              "<Figure size 1080x360 with 1 Axes>"
            ],
            "image/png": "[encoded data removed]"
          },
          "metadata": {}
        }
      ]
    },
    {
      "cell_type": "markdown",
      "source": [
        "As casas mobiliadas possuem um preço de aluguel mais alto?"
      ],
      "metadata": {
        "id": "a27k2weyXKYj"
      }
    },
    {
      "cell_type": "code",
      "source": [
        "df.groupby(\"mobiliado\")['total_aluguel'].median()"
      ],
      "metadata": {
        "colab": {
          "base_uri": "https://localhost:8080/"
        },
        "id": "Tnk933TbXNDY",
        "outputId": "e11c1a01-eb24-4bcf-9f5f-80e4f9233e3a"
      },
      "execution_count": 27,
      "outputs": [
        {
          "output_type": "execute_result",
          "data": {
            "text/plain": [
              "mobiliado\n",
              "nao    3170.0\n",
              "sim    4855.5\n",
              "Name: total_aluguel, dtype: float64"
            ]
          },
          "metadata": {},
          "execution_count": 27
        }
      ]
    },
    {
      "cell_type": "code",
      "source": [
        "plt.figure(figsize=(15,5))\n",
        "sns.catplot(x= 'cidade', y = 'total_aluguel', col= 'mobiliado', kind='bar', data=df)"
      ],
      "metadata": {
        "colab": {
          "base_uri": "https://localhost:8080/",
          "height": 401
        },
        "id": "YN2AYW0FYKAu",
        "outputId": "aef6948c-bef1-4a0f-85bc-0b4f14bbb99d"
      },
      "execution_count": 10,
      "outputs": [
        {
          "output_type": "execute_result",
          "data": {
            "text/plain": [
              "<seaborn.axisgrid.FacetGrid at 0x7fba9442d2d0>"
            ]
          },
          "metadata": {},
          "execution_count": 10
        },
        {
          "output_type": "display_data",
          "data": {
            "text/plain": [
              "<Figure size 1080x360 with 0 Axes>"
            ]
          },
          "metadata": {}
        },
        {
          "output_type": "display_data",
          "data": {
            "text/plain": [
              "<Figure size 720x360 with 2 Axes>"
            ],
            "image/png": "[encoded data removed]"
          },
          "metadata": {}
        }
      ]
    }
  ]
}